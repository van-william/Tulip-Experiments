{
 "cells": [
  {
   "cell_type": "code",
   "execution_count": 25,
   "id": "1dda5280-b00a-4008-ad3e-eb4aa00124a7",
   "metadata": {
    "tags": []
   },
   "outputs": [],
   "source": [
    "import pandas as pd\n",
    "import numpy as np\n",
    "import os\n",
    "import base64\n",
    "import requests\n",
    "import urllib.parse"
   ]
  },
  {
   "cell_type": "code",
   "execution_count": 18,
   "id": "b905263f-c530-4e22-b774-7d747e665fd0",
   "metadata": {
    "tags": []
   },
   "outputs": [],
   "source": [
    "API_KEY = os.getenv('TULIP_TABLE_API_KEY')\n",
    "API_SECRET = os.getenv('TULIP_TABLE_API_SECRET')"
   ]
  },
  {
   "cell_type": "code",
   "execution_count": 19,
   "id": "74eaaeef-794a-4a9d-b84f-cccffbe74a75",
   "metadata": {
    "tags": []
   },
   "outputs": [],
   "source": [
    "API_CREDENTIALS = 'Basic '+base64.b64encode((API_KEY+\":\"+API_SECRET).encode('ascii')).decode('ascii')"
   ]
  },
  {
   "cell_type": "code",
   "execution_count": 55,
   "id": "4abdad14-ca07-450d-b11f-98d17ff3a00e",
   "metadata": {
    "tags": []
   },
   "outputs": [],
   "source": [
    "base_url = 'https://william.tulip.co/api/v3/tables/'\n",
    "table = 'fXsbaj23HEPFRnTyZ/records'\n",
    "limit = 'limit=100'\n",
    "# total_count = 'includeTotalCount=false'\n",
    "# filter_aggregator = 'filterAggregator=all'\n",
    "sort_query = 'sortOptions='+urllib.parse.quote('[{\"sortBy\":\"wrwyx_datetime_downtime_start\",\"sortDir\":\"desc\"}]')\n",
    "SQL = f'?{limit}&{sort_query}'\n",
    "query = base_url + table + SQL"
   ]
  },
  {
   "cell_type": "code",
   "execution_count": 56,
   "id": "e57df923-7e39-4c51-bd1f-392df03e5138",
   "metadata": {
    "tags": []
   },
   "outputs": [
    {
     "name": "stdout",
     "output_type": "stream",
     "text": [
      "<Response [200]>\n",
      "6\n"
     ]
    }
   ],
   "source": [
    "header = {\"Authorization\" : API_CREDENTIALS}\n",
    "res = requests.get(query, headers=header)\n",
    "print(res)\n",
    "print(len(res.json()))"
   ]
  },
  {
   "cell_type": "code",
   "execution_count": 57,
   "id": "cc518dda-a95d-4517-9cb6-ec2fad85b0f0",
   "metadata": {
    "tags": []
   },
   "outputs": [
    {
     "data": {
      "text/html": [
       "<div>\n",
       "<style scoped>\n",
       "    .dataframe tbody tr th:only-of-type {\n",
       "        vertical-align: middle;\n",
       "    }\n",
       "\n",
       "    .dataframe tbody tr th {\n",
       "        vertical-align: top;\n",
       "    }\n",
       "\n",
       "    .dataframe thead th {\n",
       "        text-align: right;\n",
       "    }\n",
       "</style>\n",
       "<table border=\"1\" class=\"dataframe\">\n",
       "  <thead>\n",
       "    <tr style=\"text-align: right;\">\n",
       "      <th></th>\n",
       "      <th>_createdAt</th>\n",
       "      <th>_sequenceNumber</th>\n",
       "      <th>_updatedAt</th>\n",
       "      <th>id</th>\n",
       "      <th>ikkuy_location</th>\n",
       "      <th>jlplh_reason</th>\n",
       "      <th>kcldd_date_downtime_start</th>\n",
       "      <th>tsclt_description</th>\n",
       "      <th>vkves_downtime</th>\n",
       "      <th>wrwyx_datetime_downtime_start</th>\n",
       "    </tr>\n",
       "  </thead>\n",
       "  <tbody>\n",
       "    <tr>\n",
       "      <th>0</th>\n",
       "      <td>2023-05-31T18:54:12Z</td>\n",
       "      <td>6</td>\n",
       "      <td>2023-05-31T18:54:13Z</td>\n",
       "      <td>Machine Shop-1685559252</td>\n",
       "      <td>Machine Shop</td>\n",
       "      <td>Reactive Maintenance</td>\n",
       "      <td>2023-05-30T23:00:00-05:00</td>\n",
       "      <td>Update \\n</td>\n",
       "      <td>80</td>\n",
       "      <td>2023-05-31T13:52:53-05:00</td>\n",
       "    </tr>\n",
       "    <tr>\n",
       "      <th>1</th>\n",
       "      <td>2023-05-31T18:52:40Z</td>\n",
       "      <td>5</td>\n",
       "      <td>2023-05-31T18:52:41Z</td>\n",
       "      <td>Machine Shop-1685559160</td>\n",
       "      <td>Machine Shop</td>\n",
       "      <td>Planned downtime</td>\n",
       "      <td>2023-05-26T23:00:00-05:00</td>\n",
       "      <td>Aa</td>\n",
       "      <td>347622</td>\n",
       "      <td>2023-05-27T13:18:59-05:00</td>\n",
       "    </tr>\n",
       "    <tr>\n",
       "      <th>2</th>\n",
       "      <td>2023-05-27T18:02:09Z</td>\n",
       "      <td>3</td>\n",
       "      <td>2023-05-27T18:02:09Z</td>\n",
       "      <td>Machine Shop-1685210529</td>\n",
       "      <td>Machine Shop</td>\n",
       "      <td>Machine breakdown</td>\n",
       "      <td>2023-05-26T23:00:00-05:00</td>\n",
       "      <td>Tooling damaged. Critical. \\nneed Katey’s pers...</td>\n",
       "      <td>84</td>\n",
       "      <td>2023-05-27T13:00:45-05:00</td>\n",
       "    </tr>\n",
       "    <tr>\n",
       "      <th>3</th>\n",
       "      <td>2023-05-27T17:57:32Z</td>\n",
       "      <td>2</td>\n",
       "      <td>2023-05-27T17:57:32Z</td>\n",
       "      <td>Machine Shop-1685210251</td>\n",
       "      <td>Machine Shop</td>\n",
       "      <td>Planned downtime</td>\n",
       "      <td>2023-05-26T23:00:00-05:00</td>\n",
       "      <td>Beb\\n\\n</td>\n",
       "      <td>88</td>\n",
       "      <td>2023-05-27T12:56:04-05:00</td>\n",
       "    </tr>\n",
       "    <tr>\n",
       "      <th>4</th>\n",
       "      <td>2023-05-27T18:18:38Z</td>\n",
       "      <td>4</td>\n",
       "      <td>2023-05-27T18:18:39Z</td>\n",
       "      <td>Assembly Line-1685211517</td>\n",
       "      <td>Assembly Line</td>\n",
       "      <td>Planned downtime</td>\n",
       "      <td>2023-05-26T23:00:00-05:00</td>\n",
       "      <td>Dd</td>\n",
       "      <td>46736</td>\n",
       "      <td>2023-05-27T00:19:42-05:00</td>\n",
       "    </tr>\n",
       "  </tbody>\n",
       "</table>\n",
       "</div>"
      ],
      "text/plain": [
       "             _createdAt  _sequenceNumber            _updatedAt  \\\n",
       "0  2023-05-31T18:54:12Z                6  2023-05-31T18:54:13Z   \n",
       "1  2023-05-31T18:52:40Z                5  2023-05-31T18:52:41Z   \n",
       "2  2023-05-27T18:02:09Z                3  2023-05-27T18:02:09Z   \n",
       "3  2023-05-27T17:57:32Z                2  2023-05-27T17:57:32Z   \n",
       "4  2023-05-27T18:18:38Z                4  2023-05-27T18:18:39Z   \n",
       "\n",
       "                         id ikkuy_location          jlplh_reason  \\\n",
       "0   Machine Shop-1685559252   Machine Shop  Reactive Maintenance   \n",
       "1   Machine Shop-1685559160   Machine Shop      Planned downtime   \n",
       "2   Machine Shop-1685210529   Machine Shop     Machine breakdown   \n",
       "3   Machine Shop-1685210251   Machine Shop      Planned downtime   \n",
       "4  Assembly Line-1685211517  Assembly Line      Planned downtime   \n",
       "\n",
       "   kcldd_date_downtime_start  \\\n",
       "0  2023-05-30T23:00:00-05:00   \n",
       "1  2023-05-26T23:00:00-05:00   \n",
       "2  2023-05-26T23:00:00-05:00   \n",
       "3  2023-05-26T23:00:00-05:00   \n",
       "4  2023-05-26T23:00:00-05:00   \n",
       "\n",
       "                                   tsclt_description  vkves_downtime  \\\n",
       "0                                          Update \\n              80   \n",
       "1                                                 Aa          347622   \n",
       "2  Tooling damaged. Critical. \\nneed Katey’s pers...              84   \n",
       "3                                            Beb\\n\\n              88   \n",
       "4                                                 Dd           46736   \n",
       "\n",
       "  wrwyx_datetime_downtime_start  \n",
       "0     2023-05-31T13:52:53-05:00  \n",
       "1     2023-05-27T13:18:59-05:00  \n",
       "2     2023-05-27T13:00:45-05:00  \n",
       "3     2023-05-27T12:56:04-05:00  \n",
       "4     2023-05-27T00:19:42-05:00  "
      ]
     },
     "execution_count": 57,
     "metadata": {},
     "output_type": "execute_result"
    }
   ],
   "source": [
    "df = pd.json_normalize(res.json())\n",
    "df.head()"
   ]
  },
  {
   "cell_type": "code",
   "execution_count": 58,
   "id": "6eb87c12-64cc-447a-866f-1b16e744d4c6",
   "metadata": {},
   "outputs": [
    {
     "data": {
      "text/plain": [
       "Index(['_createdAt', '_sequenceNumber', '_updatedAt', 'id', 'ikkuy_location',\n",
       "       'jlplh_reason', 'kcldd_date_downtime_start', 'tsclt_description',\n",
       "       'vkves_downtime', 'wrwyx_datetime_downtime_start'],\n",
       "      dtype='object')"
      ]
     },
     "execution_count": 58,
     "metadata": {},
     "output_type": "execute_result"
    }
   ],
   "source": [
    "df.columns"
   ]
  },
  {
   "cell_type": "code",
   "execution_count": 60,
   "id": "15da893d-0c6e-4a49-81a0-2a2034d1c969",
   "metadata": {
    "tags": []
   },
   "outputs": [
    {
     "data": {
      "text/html": [
       "<div>\n",
       "<style scoped>\n",
       "    .dataframe tbody tr th:only-of-type {\n",
       "        vertical-align: middle;\n",
       "    }\n",
       "\n",
       "    .dataframe tbody tr th {\n",
       "        vertical-align: top;\n",
       "    }\n",
       "\n",
       "    .dataframe thead th {\n",
       "        text-align: right;\n",
       "    }\n",
       "</style>\n",
       "<table border=\"1\" class=\"dataframe\">\n",
       "  <thead>\n",
       "    <tr style=\"text-align: right;\">\n",
       "      <th></th>\n",
       "      <th>_createdAt</th>\n",
       "      <th>_sequenceNumber</th>\n",
       "      <th>_updatedAt</th>\n",
       "      <th>id</th>\n",
       "      <th>location</th>\n",
       "      <th>reason</th>\n",
       "      <th>date_downtime_start</th>\n",
       "      <th>description</th>\n",
       "      <th>downtime</th>\n",
       "      <th>datetime_downtime_start</th>\n",
       "    </tr>\n",
       "  </thead>\n",
       "  <tbody>\n",
       "    <tr>\n",
       "      <th>0</th>\n",
       "      <td>2023-05-31T18:54:12Z</td>\n",
       "      <td>6</td>\n",
       "      <td>2023-05-31T18:54:13Z</td>\n",
       "      <td>Machine Shop-1685559252</td>\n",
       "      <td>Machine Shop</td>\n",
       "      <td>Reactive Maintenance</td>\n",
       "      <td>2023-05-30T23:00:00-05:00</td>\n",
       "      <td>Update \\n</td>\n",
       "      <td>80</td>\n",
       "      <td>2023-05-31T13:52:53-05:00</td>\n",
       "    </tr>\n",
       "    <tr>\n",
       "      <th>1</th>\n",
       "      <td>2023-05-31T18:52:40Z</td>\n",
       "      <td>5</td>\n",
       "      <td>2023-05-31T18:52:41Z</td>\n",
       "      <td>Machine Shop-1685559160</td>\n",
       "      <td>Machine Shop</td>\n",
       "      <td>Planned downtime</td>\n",
       "      <td>2023-05-26T23:00:00-05:00</td>\n",
       "      <td>Aa</td>\n",
       "      <td>347622</td>\n",
       "      <td>2023-05-27T13:18:59-05:00</td>\n",
       "    </tr>\n",
       "    <tr>\n",
       "      <th>2</th>\n",
       "      <td>2023-05-27T18:02:09Z</td>\n",
       "      <td>3</td>\n",
       "      <td>2023-05-27T18:02:09Z</td>\n",
       "      <td>Machine Shop-1685210529</td>\n",
       "      <td>Machine Shop</td>\n",
       "      <td>Machine breakdown</td>\n",
       "      <td>2023-05-26T23:00:00-05:00</td>\n",
       "      <td>Tooling damaged. Critical. \\nneed Katey’s pers...</td>\n",
       "      <td>84</td>\n",
       "      <td>2023-05-27T13:00:45-05:00</td>\n",
       "    </tr>\n",
       "    <tr>\n",
       "      <th>3</th>\n",
       "      <td>2023-05-27T17:57:32Z</td>\n",
       "      <td>2</td>\n",
       "      <td>2023-05-27T17:57:32Z</td>\n",
       "      <td>Machine Shop-1685210251</td>\n",
       "      <td>Machine Shop</td>\n",
       "      <td>Planned downtime</td>\n",
       "      <td>2023-05-26T23:00:00-05:00</td>\n",
       "      <td>Beb\\n\\n</td>\n",
       "      <td>88</td>\n",
       "      <td>2023-05-27T12:56:04-05:00</td>\n",
       "    </tr>\n",
       "    <tr>\n",
       "      <th>4</th>\n",
       "      <td>2023-05-27T18:18:38Z</td>\n",
       "      <td>4</td>\n",
       "      <td>2023-05-27T18:18:39Z</td>\n",
       "      <td>Assembly Line-1685211517</td>\n",
       "      <td>Assembly Line</td>\n",
       "      <td>Planned downtime</td>\n",
       "      <td>2023-05-26T23:00:00-05:00</td>\n",
       "      <td>Dd</td>\n",
       "      <td>46736</td>\n",
       "      <td>2023-05-27T00:19:42-05:00</td>\n",
       "    </tr>\n",
       "  </tbody>\n",
       "</table>\n",
       "</div>"
      ],
      "text/plain": [
       "             _createdAt  _sequenceNumber            _updatedAt  \\\n",
       "0  2023-05-31T18:54:12Z                6  2023-05-31T18:54:13Z   \n",
       "1  2023-05-31T18:52:40Z                5  2023-05-31T18:52:41Z   \n",
       "2  2023-05-27T18:02:09Z                3  2023-05-27T18:02:09Z   \n",
       "3  2023-05-27T17:57:32Z                2  2023-05-27T17:57:32Z   \n",
       "4  2023-05-27T18:18:38Z                4  2023-05-27T18:18:39Z   \n",
       "\n",
       "                         id       location                reason  \\\n",
       "0   Machine Shop-1685559252   Machine Shop  Reactive Maintenance   \n",
       "1   Machine Shop-1685559160   Machine Shop      Planned downtime   \n",
       "2   Machine Shop-1685210529   Machine Shop     Machine breakdown   \n",
       "3   Machine Shop-1685210251   Machine Shop      Planned downtime   \n",
       "4  Assembly Line-1685211517  Assembly Line      Planned downtime   \n",
       "\n",
       "         date_downtime_start  \\\n",
       "0  2023-05-30T23:00:00-05:00   \n",
       "1  2023-05-26T23:00:00-05:00   \n",
       "2  2023-05-26T23:00:00-05:00   \n",
       "3  2023-05-26T23:00:00-05:00   \n",
       "4  2023-05-26T23:00:00-05:00   \n",
       "\n",
       "                                         description  downtime  \\\n",
       "0                                          Update \\n        80   \n",
       "1                                                 Aa    347622   \n",
       "2  Tooling damaged. Critical. \\nneed Katey’s pers...        84   \n",
       "3                                            Beb\\n\\n        88   \n",
       "4                                                 Dd     46736   \n",
       "\n",
       "     datetime_downtime_start  \n",
       "0  2023-05-31T13:52:53-05:00  \n",
       "1  2023-05-27T13:18:59-05:00  \n",
       "2  2023-05-27T13:00:45-05:00  \n",
       "3  2023-05-27T12:56:04-05:00  \n",
       "4  2023-05-27T00:19:42-05:00  "
      ]
     },
     "execution_count": 60,
     "metadata": {},
     "output_type": "execute_result"
    }
   ],
   "source": [
    "clean_columns = [column if column in ['_createdAt', '_sequenceNumber', '_updatedAt', 'id'] else column[6:] for column in df.columns]\n",
    "df.columns = clean_columns\n",
    "df.head()"
   ]
  },
  {
   "cell_type": "code",
   "execution_count": null,
   "id": "a9588384-e53d-41cd-afa2-4011a574f173",
   "metadata": {},
   "outputs": [],
   "source": []
  }
 ],
 "metadata": {
  "kernelspec": {
   "display_name": "PY39:Python",
   "language": "python",
   "name": "conda-env-PY39-py"
  },
  "language_info": {
   "codemirror_mode": {
    "name": "ipython",
    "version": 3
   },
   "file_extension": ".py",
   "mimetype": "text/x-python",
   "name": "python",
   "nbconvert_exporter": "python",
   "pygments_lexer": "ipython3",
   "version": "3.9.16"
  }
 },
 "nbformat": 4,
 "nbformat_minor": 5
}
