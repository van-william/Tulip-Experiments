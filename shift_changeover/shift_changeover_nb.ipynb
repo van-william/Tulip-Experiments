{
 "cells": [
  {
   "cell_type": "markdown",
   "metadata": {},
   "source": [
    "## Import Libraries"
   ]
  },
  {
   "cell_type": "code",
   "execution_count": 1,
   "metadata": {
    "tags": []
   },
   "outputs": [],
   "source": [
    "import numpy as np\n",
    "import pandas as pd\n",
    "import openai\n",
    "import os"
   ]
  },
  {
   "cell_type": "code",
   "execution_count": 2,
   "metadata": {
    "tags": []
   },
   "outputs": [],
   "source": [
    "key = os.getenv('OPENAI_KEY')"
   ]
  },
  {
   "cell_type": "code",
   "execution_count": 3,
   "metadata": {
    "tags": []
   },
   "outputs": [],
   "source": [
    "openai.api_key = key"
   ]
  },
  {
   "cell_type": "markdown",
   "metadata": {},
   "source": [
    "## Experiment with GPT APIs"
   ]
  },
  {
   "cell_type": "code",
   "execution_count": 4,
   "metadata": {
    "tags": []
   },
   "outputs": [],
   "source": [
    "\n",
    "audio_file = open(\"shift_changeover.m4a\", \"rb\")\n",
    "transcript = openai.Audio.transcribe(\"whisper-1\", audio_file)"
   ]
  },
  {
   "cell_type": "code",
   "execution_count": 5,
   "metadata": {
    "tags": []
   },
   "outputs": [],
   "source": [
    "summary = transcript['text']"
   ]
  },
  {
   "cell_type": "code",
   "execution_count": 6,
   "metadata": {
    "tags": []
   },
   "outputs": [],
   "source": [
    "Response = openai.Completion.create(model=\"text-davinci-003\", \n",
    "prompt=f\"Summarize the following text into no more than three bullet points:\\n {summary}\\n\\nSummary:\",\n",
    "temperature=0.5,\n",
    "            max_tokens=1024,\n",
    "            n = 1,\n",
    "            stop=None)\n"
   ]
  },
  {
   "cell_type": "code",
   "execution_count": 7,
   "metadata": {
    "tags": []
   },
   "outputs": [
    {
     "name": "stdout",
     "output_type": "stream",
     "text": [
      "\n",
      "- Experienced issues on machine during first shift\n",
      "- Maintenance may need to be done sooner\n",
      "- Quality concerns around parts A, B, and C\n"
     ]
    }
   ],
   "source": [
    "print(Response.choices[0].text)"
   ]
  },
  {
   "cell_type": "code",
   "execution_count": 8,
   "metadata": {
    "tags": []
   },
   "outputs": [],
   "source": [
    "sentiment_response = openai.Completion.create(model=\"text-davinci-003\", \n",
    "prompt=f\"Output a sentiment score from 1 to 100; 1 is most negative, 100 is most positive :\\n {summary}\\n\\nSentiment:\",\n",
    "temperature=0.3,\n",
    "            max_tokens=1024,\n",
    "            n = 1,\n",
    "            stop=None)\n"
   ]
  },
  {
   "cell_type": "code",
   "execution_count": 9,
   "metadata": {
    "tags": []
   },
   "outputs": [
    {
     "name": "stdout",
     "output_type": "stream",
     "text": [
      " 40\n"
     ]
    }
   ],
   "source": [
    "print(sentiment_response.choices[0].text)"
   ]
  }
 ],
 "metadata": {
  "interpreter": {
   "hash": "88f2ee5db3bb384a1b21261450e6d297d7ac5f06690d68866a2ac04d5c1494b9"
  },
  "kernelspec": {
   "display_name": "PY39:Python",
   "language": "python",
   "name": "conda-env-PY39-py"
  },
  "language_info": {
   "codemirror_mode": {
    "name": "ipython",
    "version": 3
   },
   "file_extension": ".py",
   "mimetype": "text/x-python",
   "name": "python",
   "nbconvert_exporter": "python",
   "pygments_lexer": "ipython3",
   "version": "3.9.16"
  }
 },
 "nbformat": 4,
 "nbformat_minor": 4
}
